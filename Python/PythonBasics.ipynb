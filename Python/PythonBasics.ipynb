{
 "cells": [
  {
   "cell_type": "markdown",
   "id": "918a04e4",
   "metadata": {},
   "source": [
    "### 1a. To check if a number is even or odd\n"
   ]
  },
  {
   "cell_type": "code",
   "execution_count": 44,
   "id": "5b032041",
   "metadata": {},
   "outputs": [
    {
     "name": "stdout",
     "output_type": "stream",
     "text": [
      "Enter a number :12\n",
      "12 is an even number\n"
     ]
    }
   ],
   "source": [
    "a = int(input(\"Enter a number :\"))\n",
    "\n",
    "if a%2 == 0 :\n",
    "    print(a,'is an even number')\n",
    "else :\n",
    "    print(a,\"is an odd number\")\n",
    "    "
   ]
  },
  {
   "cell_type": "markdown",
   "id": "735bc4f2",
   "metadata": {},
   "source": [
    "### 1b.Calculating factorial using recursion"
   ]
  },
  {
   "cell_type": "code",
   "execution_count": 11,
   "id": "bc2cbf8f",
   "metadata": {},
   "outputs": [
    {
     "name": "stdout",
     "output_type": "stream",
     "text": [
      "Enter a number: 10\n",
      "10 ! = 3628800\n"
     ]
    }
   ],
   "source": [
    "def fact(n):\n",
    "    return 1 if n==1 else n*fact(n-1)\n",
    "a = int(input(\"Enter a number: \"))\n",
    "print(a,\"!\",\"=\",fact(a))\n",
    "\n"
   ]
  },
  {
   "cell_type": "markdown",
   "id": "f23064c7",
   "metadata": {},
   "source": [
    "### 2.Removing duplicates from a List maintaining order"
   ]
  },
  {
   "cell_type": "code",
   "execution_count": 42,
   "id": "563edc6c",
   "metadata": {},
   "outputs": [
    {
     "name": "stdout",
     "output_type": "stream",
     "text": [
      "[1, 2, 3, 4, 5, 6]\n"
     ]
    }
   ],
   "source": [
    "my_list = [1, 2, 2, 3, 4, 1, 5, 3, 6]\n",
    "result = []\n",
    "[result.append(item) for item in my_list if item not in result]\n",
    "print(result)\n"
   ]
  },
  {
   "cell_type": "markdown",
   "id": "d2ae9851",
   "metadata": {},
   "source": [
    "### 3.Removing duplicates from a List using sets"
   ]
  },
  {
   "cell_type": "code",
   "execution_count": 43,
   "id": "d7a0a6b6",
   "metadata": {},
   "outputs": [
    {
     "name": "stdout",
     "output_type": "stream",
     "text": [
      "[1, 2, 3, 4, 5, 6]\n"
     ]
    }
   ],
   "source": [
    "my_list = [1, 2, 2, 3, 4, 1, 5, 3, 6]\n",
    "result = []\n",
    "seen = set()\n",
    "for item in my_list:\n",
    "    if item not in seen:\n",
    "        result.append(item)\n",
    "        seen.add(item)\n",
    "\n",
    "print(result)\n"
   ]
  },
  {
   "cell_type": "markdown",
   "id": "323f9a4a",
   "metadata": {},
   "source": [
    "### 4.Calculate occurance of each character in a String"
   ]
  },
  {
   "cell_type": "code",
   "execution_count": 41,
   "id": "c4eeeeb8",
   "metadata": {},
   "outputs": [
    {
     "name": "stdout",
     "output_type": "stream",
     "text": [
      "Enter a String :yappadoobee\n",
      "{'y': 1, 'a': 2, 'p': 2, 'd': 1, 'o': 2, 'b': 1, 'e': 2}\n"
     ]
    }
   ],
   "source": [
    "str = input(\"Enter a String :\")\n",
    "char_count_dic = {}\n",
    "\n",
    "for char in str:\n",
    "    if char in char_count_dic:\n",
    "        char_count_dic[char] += 1\n",
    "    else:\n",
    "        char_count_dic[char] = 1\n",
    "\n",
    "print(char_count_dic)\n"
   ]
  },
  {
   "cell_type": "markdown",
   "id": "43c6c55f",
   "metadata": {},
   "source": [
    "### 5. Finding Index of an element in a tuple"
   ]
  },
  {
   "cell_type": "code",
   "execution_count": 39,
   "id": "6ffb7a25",
   "metadata": {},
   "outputs": [
    {
     "name": "stdout",
     "output_type": "stream",
     "text": [
      "Enter element whose index is needed: 7\n",
      "1\n"
     ]
    }
   ],
   "source": [
    "tup = (1,7,67,45,47,5)\n",
    "x = int(input(\"Enter element whose index is needed: \"))\n",
    "\n",
    "if x in tup:\n",
    "    print(tup.index(x))\n",
    "else:\n",
    "    print(\"element is not in tuple\")"
   ]
  },
  {
   "cell_type": "markdown",
   "id": "e22c7007",
   "metadata": {},
   "source": [
    "### 6.Generate first N fibonacci number using both recursion and loop"
   ]
  },
  {
   "cell_type": "code",
   "execution_count": 35,
   "id": "fe0d894a",
   "metadata": {},
   "outputs": [
    {
     "name": "stdout",
     "output_type": "stream",
     "text": [
      "First Fibonacci numbers (using recursion): \n",
      "0  \n",
      "1  \n",
      "1  \n",
      "2  \n",
      "3  \n",
      "5  \n",
      "8  \n",
      "13  \n",
      "21  \n",
      "34  \n",
      "\n",
      "-----------------------------------------------\n",
      "First Fibonacci numbers (using loop): \n",
      "0 1 1 2 3 5 8 13 21 34 "
     ]
    }
   ],
   "source": [
    "def recursive_fib(n, a=0, b=1):\n",
    "    if n == 0:\n",
    "        return\n",
    "    print(a, end=' ')\n",
    "    recursive_fib(n - 1, b, a + b)\n",
    "\n",
    "\n",
    "def loop_fib(n):\n",
    "    a, b = 0, 1\n",
    "    for _ in range(n):\n",
    "        print(a, end=' ')\n",
    "        a, b = b, a + b\n",
    "\n",
    "\n",
    "n = 10\n",
    "print(\"First Fibonacci numbers (using recursion): \")\n",
    "recursive_fib(n)\n",
    "print(\"\\n-----------------------------------------------\\nFirst Fibonacci numbers (using loop): \")\n",
    "loop_fib(n)\n"
   ]
  },
  {
   "cell_type": "markdown",
   "id": "b2b87953",
   "metadata": {},
   "source": [
    "### 7a. Largest of 3 numbers using if-else"
   ]
  },
  {
   "cell_type": "code",
   "execution_count": 15,
   "id": "1f6a1004",
   "metadata": {},
   "outputs": [
    {
     "name": "stdout",
     "output_type": "stream",
     "text": [
      "Enter a number A :12\n",
      "Enter a number B :12\n",
      "Enter a number C :12\n",
      "12 is greatest among A,B,C\n"
     ]
    }
   ],
   "source": [
    "a = int(input(\"Enter a number A :\"))\n",
    "b = int(input(\"Enter a number B :\"))\n",
    "c = int(input(\"Enter a number C :\"))\n",
    "\n",
    "if a>b:\n",
    "    if a>c:\n",
    "        max = c\n",
    "    else: \n",
    "        max = a\n",
    "else:\n",
    "    if b>c:\n",
    "        max = b\n",
    "    else: \n",
    "        max = c\n",
    "print(max,\"is greatest among A,B,C\")\n",
    "    "
   ]
  },
  {
   "cell_type": "markdown",
   "id": "d7fa4151",
   "metadata": {},
   "source": [
    "### 7b. Print multiplication table of a given number"
   ]
  },
  {
   "cell_type": "code",
   "execution_count": 20,
   "id": "ed812bc8",
   "metadata": {},
   "outputs": [
    {
     "name": "stdout",
     "output_type": "stream",
     "text": [
      "Enter a number :2\n",
      "Enter till what quotient you want the table :10\n",
      "2 x 10 = 2\n",
      "2 x 10 = 4\n",
      "2 x 10 = 6\n",
      "2 x 10 = 8\n",
      "2 x 10 = 10\n",
      "2 x 10 = 12\n",
      "2 x 10 = 14\n",
      "2 x 10 = 16\n",
      "2 x 10 = 18\n",
      "2 x 10 = 20\n"
     ]
    }
   ],
   "source": [
    "a = int(input(\"Enter a number :\"))\n",
    "q = int(input(\"Enter till what quotient you want the table :\"))\n",
    "\n",
    "for i in range(1,q+1):\n",
    "    print(a,'x',q,'=',a*i)\n"
   ]
  },
  {
   "cell_type": "markdown",
   "id": "b7219fab",
   "metadata": {},
   "source": [
    "### 8. Write python code that prints number 1-50 but skips multiples of 5 using `continue`"
   ]
  },
  {
   "cell_type": "code",
   "execution_count": 22,
   "id": "14382d61",
   "metadata": {},
   "outputs": [
    {
     "name": "stdout",
     "output_type": "stream",
     "text": [
      "1\n",
      "2\n",
      "3\n",
      "4\n",
      "6\n",
      "7\n",
      "8\n",
      "9\n",
      "11\n",
      "12\n",
      "13\n",
      "14\n",
      "16\n",
      "17\n",
      "18\n",
      "19\n",
      "21\n",
      "22\n",
      "23\n",
      "24\n",
      "26\n",
      "27\n",
      "28\n",
      "29\n",
      "31\n",
      "32\n",
      "33\n",
      "34\n",
      "36\n",
      "37\n",
      "38\n",
      "39\n",
      "41\n",
      "42\n",
      "43\n",
      "44\n",
      "46\n",
      "47\n",
      "48\n",
      "49\n"
     ]
    }
   ],
   "source": [
    "for i in range(1,51):\n",
    "    if i%5 == 0 : \n",
    "        continue\n",
    "    print(i)"
   ]
  },
  {
   "cell_type": "markdown",
   "id": "a5f63292",
   "metadata": {},
   "source": [
    "### 9. Python program that stops execution using `break` when it finds a negative number in a list "
   ]
  },
  {
   "cell_type": "code",
   "execution_count": 26,
   "id": "31783074",
   "metadata": {},
   "outputs": [
    {
     "name": "stdout",
     "output_type": "stream",
     "text": [
      "Enter how many numbers you want in list 4\n",
      "Enter number 1: 1\n",
      "Enter number 2: 2\n",
      "Enter number 3: 3\n",
      "Enter number 4: -7\n",
      "Current Number: 1\n",
      "Current Number: 2\n",
      "Current Number: 3\n",
      "Negative number found: -7\n"
     ]
    }
   ],
   "source": [
    "list = []\n",
    "n = int(input(\"Enter how many numbers you want in list \"))\n",
    "\n",
    "for i in range(n):\n",
    "    num = int(input(f\"Enter number {i + 1}: \"))\n",
    "    list.append(num)\n",
    "\n",
    "for num in list:\n",
    "    if num < 0:\n",
    "        print(\"Negative number found:\", num)\n",
    "        break\n",
    "    print(\"Current Number:\", num)\n"
   ]
  },
  {
   "cell_type": "markdown",
   "id": "94122c53",
   "metadata": {},
   "source": [
    "### 10. Use `pass` statement inside a loop "
   ]
  },
  {
   "cell_type": "code",
   "execution_count": 27,
   "id": "bd49fc82",
   "metadata": {},
   "outputs": [
    {
     "name": "stdout",
     "output_type": "stream",
     "text": [
      "Code ended\n"
     ]
    }
   ],
   "source": [
    "for i in range(10):\n",
    "    pass                 #used as a placeholder for future code\n",
    "print(\"Code ended\")\n"
   ]
  },
  {
   "cell_type": "markdown",
   "id": "a48b89a2",
   "metadata": {},
   "source": [
    "### Python Basics Over ~"
   ]
  }
 ],
 "metadata": {
  "kernelspec": {
   "display_name": "Python 3 (ipykernel)",
   "language": "python",
   "name": "python3"
  },
  "language_info": {
   "codemirror_mode": {
    "name": "ipython",
    "version": 3
   },
   "file_extension": ".py",
   "mimetype": "text/x-python",
   "name": "python",
   "nbconvert_exporter": "python",
   "pygments_lexer": "ipython3",
   "version": "3.8.10"
  }
 },
 "nbformat": 4,
 "nbformat_minor": 5
}
